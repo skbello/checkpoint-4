{
 "cells": [
  {
   "cell_type": "code",
   "execution_count": 6,
   "id": "56aaad6c",
   "metadata": {},
   "outputs": [
    {
     "name": "stdout",
     "output_type": "stream",
     "text": [
      "enter first integer 45\n",
      "enter second integer 33\n",
      "enter third integer 56\n",
      "the largest number is 56\n"
     ]
    }
   ],
   "source": [
    "#Write a Python function to find the largest (max) of three numbers.\n",
    "a= int(input(\"enter first integer is \"))\n",
    "b= int(input(\"enter second integer is \"))\n",
    "c= int(input(\"enter third integer is \"))\n",
    "\n",
    "print (\"The largest number is \", end='')\n",
    "if c <= a >= b:\n",
    "    print (a)\n",
    "elif b <= c >= a:\n",
    "    print(c)\n",
    "elif a <= b >= c:\n",
    "    print (b)\n"
   ]
  },
  {
   "cell_type": "code",
   "execution_count": null,
   "id": "8b95b7b5",
   "metadata": {},
   "outputs": [],
   "source": [
    "#Write a function calculation() so it can accept two variables and calculate the addition and subtraction of them. \n",
    "#It must return both addition and subtraction in a single return call.\n",
    "def calculation (a,b):\n",
    "    return\n",
    "    \n",
    "  \n",
    "x= int(input(\"enter first number \"))\n",
    "y= int(input(\"enter second number \"))\n",
    "\n",
    "calculation (x,y)\n",
    "print (x+y,\",\",x-y)\n",
    "\n",
    "\n"
   ]
  },
  {
   "cell_type": "code",
   "execution_count": 8,
   "id": "ce22b3a5",
   "metadata": {},
   "outputs": [
    {
     "name": "stdout",
     "output_type": "stream",
     "text": [
      "the sum of elements is  200\n",
      "the product of elements is  72000000\n"
     ]
    }
   ],
   "source": [
    "#Write a function that sums the elements of a list of integers.\n",
    "my_list=[20,30,40,50,60]\n",
    "total_1= sum(my_list)\n",
    "print (\"the sum of elements is \", total)\n",
    "#Write a function that multiplies the elements of an integer list.\n",
    "\n",
    "import numpy\n",
    "\n",
    "result= numpy.prod(my_list)\n",
    "print (\"the product of elements is \",result)"
   ]
  },
  {
   "cell_type": "code",
   "execution_count": 11,
   "id": "7402cc38",
   "metadata": {},
   "outputs": [
    {
     "name": "stdout",
     "output_type": "stream",
     "text": [
      "enter words red-blue-pink-green\n",
      "blue-green-pink-red\n"
     ]
    }
   ],
   "source": [
    "#Write a Python program that accepts a hyphen-separated sequence of words as input and prints the words in a hyphen-separated \n",
    "#sequence after sorting them alphabetically. Sample items: green-red-yellow-black-white\n",
    "\n",
    "words= [i for i in input (\"enter words \").split(\"-\")]\n",
    "words.sort()\n",
    "print (\"-\".join(words))"
   ]
  },
  {
   "cell_type": "code",
   "execution_count": 14,
   "id": "95fddea4",
   "metadata": {},
   "outputs": [
    {
     "name": "stdout",
     "output_type": "stream",
     "text": [
      "enter value of D 10\n",
      "5.773502691896258\n"
     ]
    }
   ],
   "source": [
    "#Write a function that calculates and prints the value according to the given \n",
    "#formula: Q = square root of [(2 * C * D)/H]. Following are the fixed values of C and H: C is 50, and H is 30. \n",
    "#D is the variable whose values should be input to your program in a comma-separated sequence. \n",
    "#Example: Let us assume the following comma-separated input sequence is given to the function: 100,150,180. \n",
    "import math\n",
    "D= int(input(\"enter value of D \"))\n",
    "H=30\n",
    "C=50\n",
    "Q= (2 * C * D)/H\n",
    "result= math.sqrt (Q)\n",
    "print(result)"
   ]
  },
  {
   "cell_type": "code",
   "execution_count": null,
   "id": "eea59b0e",
   "metadata": {},
   "outputs": [],
   "source": []
  }
 ],
 "metadata": {
  "kernelspec": {
   "display_name": "Python 3 (ipykernel)",
   "language": "python",
   "name": "python3"
  },
  "language_info": {
   "codemirror_mode": {
    "name": "ipython",
    "version": 3
   },
   "file_extension": ".py",
   "mimetype": "text/x-python",
   "name": "python",
   "nbconvert_exporter": "python",
   "pygments_lexer": "ipython3",
   "version": "3.9.12"
  }
 },
 "nbformat": 4,
 "nbformat_minor": 5
}
