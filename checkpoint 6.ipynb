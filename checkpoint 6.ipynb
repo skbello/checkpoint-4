{
 "cells": [
  {
   "cell_type": "code",
   "execution_count": 2,
   "id": "52777859",
   "metadata": {},
   "outputs": [
    {
     "name": "stdout",
     "output_type": "stream",
     "text": [
      "[5, 6, 7]\n"
     ]
    }
   ],
   "source": [
    "#Write a Python program to convert an array to an ordinary list with the same items.We can use the np.tolist() function\n",
    "\n",
    "import numpy\n",
    "\n",
    "arr1=numpy.array([5,6,7])\n",
    "list1=arr1.tolist()\n",
    "print(list1)"
   ]
  },
  {
   "cell_type": "code",
   "execution_count": 14,
   "id": "2c286810",
   "metadata": {},
   "outputs": [
    {
     "name": "stdout",
     "output_type": "stream",
     "text": [
      "[[0 1 2]\n",
      " [3 4 5]\n",
      " [6 7 8]]\n",
      "the sum of the diagonal array [0 4 8] is 12\n"
     ]
    }
   ],
   "source": [
    "#Write a NumPy program to compute the sum of the diagonal elements of a given array.\n",
    "import numpy as np\n",
    "arr= np.arange(9).reshape(3,3)\n",
    "print(arr)\n",
    "np.diagonal(arr)\n",
    "print (\"the sum of the diagonal array\", np.diagonal(arr), \"is\",sum(np.diagonal(arr)))"
   ]
  },
  {
   "cell_type": "code",
   "execution_count": 19,
   "id": "7e8cad9b",
   "metadata": {},
   "outputs": [
    {
     "ename": "TypeError",
     "evalue": "'builtin_function_or_method' object is not subscriptable",
     "output_type": "error",
     "traceback": [
      "\u001b[1;31m---------------------------------------------------------------------------\u001b[0m",
      "\u001b[1;31mTypeError\u001b[0m                                 Traceback (most recent call last)",
      "Input \u001b[1;32mIn [19]\u001b[0m, in \u001b[0;36m<cell line: 5>\u001b[1;34m()\u001b[0m\n\u001b[0;32m      1\u001b[0m \u001b[38;5;66;03m#Given an array of your choice, get all the values higher than X:\u001b[39;00m\n\u001b[0;32m      2\u001b[0m \u001b[38;5;66;03m#If a = [[1,2],[3,5]] and x = 2 :  then 3 and 5 are higher than 2. \u001b[39;00m\n\u001b[0;32m      3\u001b[0m \u001b[38;5;28;01mimport\u001b[39;00m \u001b[38;5;21;01mnumpy\u001b[39;00m \u001b[38;5;28;01mas\u001b[39;00m \u001b[38;5;21;01mnp\u001b[39;00m\n\u001b[1;32m----> 5\u001b[0m arr3\u001b[38;5;241m=\u001b[39m\u001b[43mnp\u001b[49m\u001b[38;5;241;43m.\u001b[39;49m\u001b[43marray\u001b[49m\u001b[43m[\u001b[49m\u001b[43m[\u001b[49m\u001b[38;5;241;43m1\u001b[39;49m\u001b[43m,\u001b[49m\u001b[38;5;241;43m2\u001b[39;49m\u001b[43m]\u001b[49m\u001b[43m,\u001b[49m\u001b[43m[\u001b[49m\u001b[38;5;241;43m3\u001b[39;49m\u001b[43m,\u001b[49m\u001b[38;5;241;43m5\u001b[39;49m\u001b[43m]\u001b[49m\u001b[43m]\u001b[49m\n",
      "\u001b[1;31mTypeError\u001b[0m: 'builtin_function_or_method' object is not subscriptable"
     ]
    }
   ],
   "source": [
    "#Given an array of your choice, get all the values higher than X:\n",
    "#If a = [[1,2],[3,5]] and x = 2 :  then 3 and 5 are higher than 2. \n",
    "import numpy as np\n",
    "\n",
    "arr3=np.array[[1,2],[3,5]]"
   ]
  },
  {
   "cell_type": "code",
   "execution_count": 22,
   "id": "6dedbdff",
   "metadata": {},
   "outputs": [
    {
     "name": "stdout",
     "output_type": "stream",
     "text": [
      "[5 7 9]\n"
     ]
    }
   ],
   "source": [
    "#Given two arrays, A & B have the same shape. \n",
    "#The task is to apply addition by hand: C is the new array\n",
    "\n",
    "import numpy as np\n",
    "a=np.array([1,2,3])\n",
    "b=np.array([4,5,6])\n",
    "c=a+b\n",
    "print (c)"
   ]
  },
  {
   "cell_type": "code",
   "execution_count": 25,
   "id": "cb65540f",
   "metadata": {},
   "outputs": [
    {
     "name": "stdout",
     "output_type": "stream",
     "text": [
      "7.0\n"
     ]
    }
   ],
   "source": [
    "#Write a NumPy program to subtract the mean of each row of a given matrix.\n",
    "#Hint: use the mean function\n",
    "import numpy as np\n",
    "a=np.array([1,2,3])\n",
    "b=np.array([4,5,6])\n",
    "c=a+b\n",
    "print (np.mean(c))"
   ]
  },
  {
   "cell_type": "code",
   "execution_count": null,
   "id": "2c14bc26",
   "metadata": {},
   "outputs": [],
   "source": []
  }
 ],
 "metadata": {
  "kernelspec": {
   "display_name": "Python 3 (ipykernel)",
   "language": "python",
   "name": "python3"
  },
  "language_info": {
   "codemirror_mode": {
    "name": "ipython",
    "version": 3
   },
   "file_extension": ".py",
   "mimetype": "text/x-python",
   "name": "python",
   "nbconvert_exporter": "python",
   "pygments_lexer": "ipython3",
   "version": "3.9.12"
  }
 },
 "nbformat": 4,
 "nbformat_minor": 5
}
