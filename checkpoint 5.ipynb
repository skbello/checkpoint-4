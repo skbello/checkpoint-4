{
 "cells": [
  {
   "cell_type": "code",
   "execution_count": 5,
   "id": "8d5ce41b",
   "metadata": {},
   "outputs": [
    {
     "name": "stdout",
     "output_type": "stream",
     "text": [
      "Blu sings 'Happy'\n",
      "Blu is now dancing \n"
     ]
    }
   ],
   "source": [
    "class Parrot:\n",
    "    \n",
    "    # instance attributes\n",
    "    def __init__(self, name, age):\n",
    "        self.name = name\n",
    "        self.age = age\n",
    "    \n",
    "    # instance method\n",
    "    def sing(self, song):\n",
    "        return \"{} sings {}\".format(self.name, song)\n",
    "\n",
    "    def dance(self):\n",
    "        return \"{} is now dancing \".format(self.name)\n",
    "\n",
    "# instantiate the object\n",
    "blu = Parrot(\"Blu\", 10)\n",
    "\n",
    "# call our instance methods\n",
    "print(blu.sing(\"'Happy'\"))\n",
    "print(blu.dance())"
   ]
  },
  {
   "cell_type": "code",
   "execution_count": 7,
   "id": "4a2f3003",
   "metadata": {},
   "outputs": [
    {
     "ename": "TabError",
     "evalue": "inconsistent use of tabs and spaces in indentation (958345580.py, line 12)",
     "output_type": "error",
     "traceback": [
      "\u001b[1;36m  Input \u001b[1;32mIn [7]\u001b[1;36m\u001b[0m\n\u001b[1;33m    print(\"Swim faster\")\u001b[0m\n\u001b[1;37m    ^\u001b[0m\n\u001b[1;31mTabError\u001b[0m\u001b[1;31m:\u001b[0m inconsistent use of tabs and spaces in indentation\n"
     ]
    }
   ],
   "source": [
    "# parent class\n",
    "class Bird:\n",
    "    \n",
    "    def __init__(self):\n",
    "        print(\"Bird is ready\")\n",
    "\n",
    "    def whoisThis(self):\n",
    "        print(\"Bird\")\n",
    "\n",
    "\n",
    "    def swim(self):\n",
    "\t\tprint(\"Swim faster\")\n",
    "\n",
    "# child class\n",
    "class Penguin(Bird):\n",
    "\n",
    "    def __init__(self):\n",
    "\t\t# call super() function\n",
    "\t\tsuper().__init__()\n",
    "\t\tprint(\"Penguin is ready\")\n",
    "\n",
    "    def whoisThis(self):\n",
    "\t\tprint(\"Penguin\")\n",
    "\n",
    "    def run(self):\n",
    "\t\tprint(\"Run faster\")\n",
    "\n",
    "peggy = Penguin()\n",
    "peggy.whoisThis()\n",
    "peggy.swim()\n",
    "peggy.run()"
   ]
  },
  {
   "cell_type": "code",
   "execution_count": 15,
   "id": "04609959",
   "metadata": {},
   "outputs": [],
   "source": [
    "class Parrot:\n",
    "    def __init__(self):\n",
    "        print (\"mr parrot don show\")"
   ]
  },
  {
   "cell_type": "code",
   "execution_count": 29,
   "id": "e8fb1250",
   "metadata": {},
   "outputs": [
    {
     "name": "stdout",
     "output_type": "stream",
     "text": [
      "1 2 3\n"
     ]
    }
   ],
   "source": [
    "#Write a Python class named Point3D defined by x, y, and z. Define a method that returns (x, y ,z). \n",
    "#This tells Python to represent this object in the following format: (x, y, z). \n",
    "#Then create a variable named my_point containing a new instance of Point3D with x=1, y=2, and z=3 and print it.\n",
    "\n",
    "class Point3D:\n",
    "    def __init__(self, x, y, z):\n",
    "        self.x=x\n",
    "        self.y=y\n",
    "        self.z=z\n",
    "    def display_point(self):\n",
    "        print(self.x,self.y,self.z)\n",
    "        \n",
    "my_point=Point3D(1,2,3)\n",
    "my_point.display_point()"
   ]
  },
  {
   "cell_type": "code",
   "execution_count": 50,
   "id": "a4c43aec",
   "metadata": {},
   "outputs": [
    {
     "name": "stdout",
     "output_type": "stream",
     "text": [
      "the area is  12\n",
      "the perimeter is  14\n"
     ]
    }
   ],
   "source": [
    "#Write a Python class named Rectangle constructed by a length and width. Define two methods, area and perimeter, \n",
    "#which will compute the area and the perimeter of the rectangle. \n",
    "#Then create a variable named my_rectangle containing a new instance of Rectangle with width=3 and length = 4 and \n",
    "#compute both area and perimeter ( the area is expected to be 3*4=12 and perimeter 2*(3+4)=14).\n",
    "\n",
    "class Rectangle:\n",
    "    def __init__(self,width,length):\n",
    "        self.width=width\n",
    "        self.length=length\n",
    "    def calculate_area(self):\n",
    "        area=self.length*self.width\n",
    "        print(\"the area is \",area)\n",
    "    def calculate_perimeter(self):\n",
    "        perimeter=2*(self.length+self.width)\n",
    "        print(\"the perimeter is \", perimeter)\n",
    "        \n",
    "my_rectangle=Rectangle(3,4)\n",
    "my_rectangle.calculate_area()\n",
    "my_rectangle.calculate_perimeter()\n"
   ]
  },
  {
   "cell_type": "code",
   "execution_count": 72,
   "id": "bee78a1a",
   "metadata": {},
   "outputs": [
    {
     "name": "stdout",
     "output_type": "stream",
     "text": [
      "the area is  50.24\n",
      "the perimeter is 25.12\n",
      "point is outside the circle\n"
     ]
    }
   ],
   "source": [
    "#Write a Python  class named Circle constructed by its center O and radius r. Define two methods, area and perimeter, \n",
    "#which will compute the area and the perimeter of the circle, and is Inside() method which allows you to test whether \n",
    "#a point A(x, y) belongs to the circle C(O, r) or not.\n",
    "\n",
    "class Circle:\n",
    "    def __init__(self,center, radius):\n",
    "        self.center=center\n",
    "        self.radius=radius\n",
    "    def compute_area (self):\n",
    "        area=3.14*self.radius**2\n",
    "        print (\"the area is \",area)\n",
    "    def compute_perimeter(self):\n",
    "        perimeter=2*3.14*self.radius\n",
    "        print(\"the perimeter is\", perimeter)\n",
    "    def find_point(self, a_x, a_y):\n",
    "        import math\n",
    "        euclidean=math.sqrt((a_x - self.center) ** 2 + (a_y - self.center) ** 2)<=self.radius\n",
    "        if euclidean == 'true':\n",
    "            print (\"point is inside the circle\")\n",
    "        else:\n",
    "            print (\"point is outside the circle\")\n",
    "my_circle=Circle(0,4)\n",
    "my_circle.compute_area()\n",
    "my_circle.compute_perimeter()\n",
    "my_circle.find_point(9,9)"
   ]
  },
  {
   "cell_type": "code",
   "execution_count": 86,
   "id": "a0727a68",
   "metadata": {},
   "outputs": [
    {
     "name": "stdout",
     "output_type": "stream",
     "text": [
      "your current balance is 10000\n",
      "you have withdrawn 200 your new balance is 9800\n",
      "you have received a deposit of 1100 new balance is 10900\n"
     ]
    }
   ],
   "source": [
    "#Suppose we want to model a bank account with support for deposit and withdraw operations. \n",
    "#Let’s create a Python class named Bank defined by its balance. Define two methods, deposit and withdraw, \n",
    "#to compute the new amount of each operation.\n",
    "\n",
    "class Bank:\n",
    "    def __init__(self,balance):\n",
    "        self.balance=balance\n",
    "        print (\"your current balance is\",self.balance)\n",
    "    def withdraw(self, amount):\n",
    "        self.balance-=amount\n",
    "        print(\"you have withdrawn\", amount, \"your new balance is\",self.balance)\n",
    "    def deposit(self,amount):\n",
    "        self.balance+=amount\n",
    "        print(\"you have received a deposit of\",amount,\"new balance is\",self.balance)\n",
    "bank_account= Bank(10000)\n",
    "bank_account.withdraw(200)\n",
    "bank_account.deposit (1100)"
   ]
  },
  {
   "cell_type": "code",
   "execution_count": null,
   "id": "9a822e1e",
   "metadata": {},
   "outputs": [],
   "source": []
  }
 ],
 "metadata": {
  "kernelspec": {
   "display_name": "Python 3 (ipykernel)",
   "language": "python",
   "name": "python3"
  },
  "language_info": {
   "codemirror_mode": {
    "name": "ipython",
    "version": 3
   },
   "file_extension": ".py",
   "mimetype": "text/x-python",
   "name": "python",
   "nbconvert_exporter": "python",
   "pygments_lexer": "ipython3",
   "version": "3.9.12"
  }
 },
 "nbformat": 4,
 "nbformat_minor": 5
}
